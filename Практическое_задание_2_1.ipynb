{
  "nbformat": 4,
  "nbformat_minor": 0,
  "metadata": {
    "colab": {
      "name": "Практическое задание 2.1.ipynb",
      "provenance": [],
      "collapsed_sections": [],
      "include_colab_link": true
    },
    "kernelspec": {
      "name": "python3",
      "display_name": "Python 3"
    },
    "language_info": {
      "name": "python"
    }
  },
  "cells": [
    {
      "cell_type": "markdown",
      "metadata": {
        "id": "view-in-github",
        "colab_type": "text"
      },
      "source": [
        "<a href=\"https://colab.research.google.com/github/DaoSerge/DaoSerge017/blob/main/%D0%9F%D1%80%D0%B0%D0%BA%D1%82%D0%B8%D1%87%D0%B5%D1%81%D0%BA%D0%BE%D0%B5_%D0%B7%D0%B0%D0%B4%D0%B0%D0%BD%D0%B8%D0%B5_2_1.ipynb\" target=\"_parent\"><img src=\"https://colab.research.google.com/assets/colab-badge.svg\" alt=\"Open In Colab\"/></a>"
      ]
    },
    {
      "cell_type": "markdown",
      "source": [
        "# Практическое задание 2.1 по разделу \"Функциональное программирование\""
      ],
      "metadata": {
        "id": "yYOnKthZ3Y1D"
      }
    },
    {
      "cell_type": "markdown",
      "source": [
        "В задачах 1-4 запрещено использовать циклы, условные операторы, собственные функции с именами. Можно использовать только комбинации функций, лямбда-выражения, итераторы, генераторы."
      ],
      "metadata": {
        "id": "GifEh_LU3oKK"
      }
    },
    {
      "cell_type": "markdown",
      "source": [
        "## Задача 1.  Произведение пятых степеней\n",
        "\n",
        "На вход подаётся последовательность натуральных чисел длины n ≤ 1000.Посчитайте произведение пятых степеней чисел в последовательности. Для решения задачи используйте функцию reduce из модуля functools.\n",
        "\n",
        "**Входные данные:**\n",
        "\n",
        "1 1 1 2\n",
        "\n",
        "**Вывод программы:**\n",
        "\n",
        "32\n"
      ],
      "metadata": {
        "id": "O6btiskO3vO8"
      }
    },
    {
      "cell_type": "code",
      "source": [
        "#Ваш код\n",
        "from functools import reduce\n",
        "print(reduce(\n",
        "        lambda x,y : x * y, \n",
        "            map(lambda x: x ** 5, \n",
        "                map(int, input().split()))))"
      ],
      "metadata": {
        "colab": {
          "base_uri": "https://localhost:8080/"
        },
        "id": "ktZb6I033u0B",
        "outputId": "7c5023ef-a21b-4b19-d647-d8b85c0d44f3"
      },
      "execution_count": null,
      "outputs": [
        {
          "output_type": "stream",
          "name": "stdout",
          "text": [
            "-1 1 2\n",
            "-32\n"
          ]
        }
      ]
    },
    {
      "cell_type": "markdown",
      "source": [
        "## Задача 2.  XOR \n",
        "\n",
        "Булева функция XOR (сложение по модулю два) задаётся следующей таблицей истинности:\n",
        "xor(0,0)=0\n",
        "xor(0,1)=1\n",
        "xor(1,0)=1\n",
        "xor(1,1)=0\n",
        "На вход подаются две последовательности (a₁,…,an) и (b₁,…,bn) из 0 и 1.\n",
        "Вычислите последовательность из (c₁,…,cn), где каждая cᵢ=xor(aᵢ,bᵢ).\n",
        "Для решения задачи можете использовать функцию zip.\n",
        "\n",
        "**Входные данные:**\n",
        "\n",
        "1 1 0 0\n",
        "\n",
        "1 0 1 0\n",
        "\n",
        "**Вывод программы:**\n",
        "\n",
        "0 1 1 0"
      ],
      "metadata": {
        "id": "KsqyL4j94Oss"
      }
    },
    {
      "cell_type": "code",
      "execution_count": null,
      "metadata": {
        "id": "2nj9GsSg3DqH"
      },
      "outputs": [],
      "source": [
        "#Ваш код"
      ]
    },
    {
      "cell_type": "markdown",
      "source": [
        "## Задача 3.  Простые числа\n",
        "\n",
        "Выведите все простые на отрезке [2;n].\n",
        "\n",
        "**Формат ввода**\n",
        "\n",
        "Вводится число 2≤n≤100000.\n",
        "\n",
        "**Формат вывода**\n",
        "\n",
        "Выведите все простые числа из отрезка [2,n] в порядке возрастания\n",
        "\n",
        "**Примечания**\n",
        "\n",
        "Напомним, что проверить число на то, простое ли оно можно за количество \n",
        "операций порядка √(N). Также напомним, что функция math.sqrt работает значительно быстрее, чем (x ** 1/2).\n",
        "\n",
        "**Входные данные:**\n",
        "\n",
        "10\n",
        "\n",
        "**Вывод программы:**\n",
        "\n",
        "2 3 5 7"
      ],
      "metadata": {
        "id": "S-gSXXLs4uUR"
      }
    },
    {
      "cell_type": "code",
      "source": [
        "# Ваш код"
      ],
      "metadata": {
        "id": "kLNoRp724t5u"
      },
      "execution_count": null,
      "outputs": []
    },
    {
      "cell_type": "markdown",
      "source": [
        "## Задача 4. Такси.\n",
        "\n",
        "После затянувшегося совещания директор фирмы решил заказать такси, чтобы развезти сотрудников по домам. Он заказал N машин — ровно столько, сколько у него сотрудников. Однако когда они подъехали, оказалось, что у каждого водителя такси свой тариф за 1 километр.\n",
        "\n",
        "Директор знает, какому сотруднику сколько километров от работы до дома (к сожалению, все сотрудники живут в разных направлениях, поэтому нельзя отправить двух сотрудников на одной машине). Теперь директор хочет определить, сколько придется заплатить за перевозку всех сотрудников. Естественно, директор хочет заплатить как можно меньшую сумму.\n",
        "\n",
        "**Формат ввода**\n",
        "\n",
        "В первой строке записаны N чисел через пробел, задающих расстояния в километрах от работы до домов сотрудников компании. Во второй строке записаны N чисел — тарифы за проезд одного километра в такси.\n",
        "\n",
        "**Формат вывода**\n",
        "\n",
        "Выведите одно целое число — наименьшую сумму, которую придется заплатить за доставку всех сотрудников.\n",
        "\n",
        "**Входные данные:**\n",
        "\n",
        "10 20 1 30 30 \n",
        "\n",
        "3 3 3 2 3\n",
        "\n",
        "**Вывод программы:**\n",
        "\n",
        "243\n",
        "\n"
      ],
      "metadata": {
        "id": "p1CNBht05ZRi"
      }
    },
    {
      "cell_type": "code",
      "source": [
        "# Ваш код\n"
      ],
      "metadata": {
        "id": "-5OY6Ocj5Yxn"
      },
      "execution_count": null,
      "outputs": []
    },
    {
      "cell_type": "markdown",
      "source": [
        "## Задача 5. Снова простые числа.\n",
        "\n",
        "Разработайте генератор prime_number() возвращающий бесконечную последовательность простых чисел в порядке возрастания, начиная с 2."
      ],
      "metadata": {
        "id": "Lf7I4Txk6Brk"
      }
    },
    {
      "cell_type": "code",
      "source": [
        "def prime_number():\n",
        "  # ваш код\n",
        "\n",
        "\n",
        "primes = prime_number()\n",
        "print(*[next(primes) for i in range(10)])"
      ],
      "metadata": {
        "id": "SUFtZoPg6RvB"
      },
      "execution_count": null,
      "outputs": []
    },
    {
      "cell_type": "markdown",
      "source": [
        "## Задача 6. В нижний регистр\n",
        "\n",
        "Разработайте декоратор to_lower, который будет переводить все строковые аргументы (как именованные, так и не именованные) декорируемой функции в нижний регистр."
      ],
      "metadata": {
        "id": "SGV7LUbm6-zG"
      }
    },
    {
      "cell_type": "code",
      "source": [
        "def to_lower(func):\n",
        "  def wrapper(*args, **kwargs):\n",
        "    # ваш код\n",
        "  \n",
        "  return wrapper\n",
        "  "
      ],
      "metadata": {
        "id": "TixT78r26-IV"
      },
      "execution_count": null,
      "outputs": []
    },
    {
      "cell_type": "code",
      "source": [
        "@to_lower\n",
        "def vyvod(*x):\n",
        "  print(*x)\n",
        "\n",
        "\n",
        "vyvod(\"Hello\", 12332, \"World\")\n"
      ],
      "metadata": {
        "id": "CyBf0IPc7_kv"
      },
      "execution_count": null,
      "outputs": []
    }
  ]
}